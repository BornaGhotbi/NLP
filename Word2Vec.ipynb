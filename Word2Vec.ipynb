{
 "cells": [
  {
   "cell_type": "markdown",
   "metadata": {},
   "source": [
    "# 1- Extract all the text fields from the YELP dataset"
   ]
  },
  {
   "cell_type": "code",
   "execution_count": 3,
   "metadata": {},
   "outputs": [],
   "source": [
    "import json\n",
    "\n",
    "def extract(path):\n",
    "    \n",
    "    out_file = open(\"data/raw.txt\", \"w\")\n",
    "    f = open(path)\n",
    "    out_file = open(\"data/raw.txt\", \"a\")\n",
    "    line = f.readline()\n",
    "    f = open(path)\n",
    "\n",
    "    i=1\n",
    "    while line:\n",
    "        try:\n",
    "            \n",
    "            #print line\n",
    "            line = f.readline()\n",
    "            review=json.loads(line)\n",
    "\n",
    "            output = review[\"text\"].lower()+'\\n'\n",
    "            out_file.write(output)\n",
    "\n",
    "            '''if i==3:\n",
    "                break\n",
    "            i=i+1'''\n",
    "    \n",
    "        #in case there is a bad line in the file.\n",
    "        except:\n",
    "            continue\n",
    "            \n",
    "    out_file.close\n",
    "    f.close\n",
    "\n",
    "extract('data/yelp_academic_dataset_review_preprosessd.json')"
   ]
  },
  {
   "cell_type": "markdown",
   "metadata": {},
   "source": [
    "# 2- Extract word frequecy dictionary"
   ]
  },
  {
   "cell_type": "code",
   "execution_count": 4,
   "metadata": {},
   "outputs": [],
   "source": [
    "import nltk\n",
    "\n",
    "#outputs a list of words from the whole text file.\n",
    "def all_words(path):\n",
    "    file = open(path, \"r\")\n",
    "    text= \"\"\n",
    "    for line in file: \n",
    "        text+=line\n",
    "    words = nltk.tokenize.word_tokenize(text)\n",
    "    \n",
    "    return words\n",
    "\n",
    "words = all_words(\"data/raw.txt\")"
   ]
  },
  {
   "cell_type": "code",
   "execution_count": 5,
   "metadata": {},
   "outputs": [],
   "source": [
    "import nltk\n",
    "\n",
    "global words\n",
    "\n",
    "#receives the path to read the text from and outputs its word frequency dict.\n",
    "def word_freq(path):\n",
    "    file = open(path, \"r\")\n",
    "    text= \"\"\n",
    "    for line in file: \n",
    "        text+=line\n",
    "\n",
    "    words = nltk.tokenize.word_tokenize(text)\n",
    "    dfist = nltk.FreqDist(words)\n",
    "    \n",
    "    return dfist\n"
   ]
  },
  {
   "cell_type": "code",
   "execution_count": 6,
   "metadata": {},
   "outputs": [
    {
     "name": "stdout",
     "output_type": "stream",
     "text": [
      "{'.': 1430463, 'the': 1184492, ',': 870455, 'and': 819462, 'i': 790435, 'a': 623904, 'to': 603963, 'was': 400996, 'it': 363596, 'of': 351185, 'is': 316668, 'for': 295321, 'in': 282605, '!': 275151, 'my': 245307, 'that': 234197, 'they': 213290, 'you': 206806, 'this': 198061, 'with': 190478}\n"
     ]
    }
   ],
   "source": [
    "import heapq\n",
    "from operator import itemgetter\n",
    "\n",
    "#return most frequent 20 words\n",
    "def top_20(path):\n",
    "    freq_dict = word_freq(path)\n",
    "    top_names = dict(heapq.nlargest(20, freq_dict.items(), key=itemgetter(1)))\n",
    "    return top_names\n",
    "\n",
    "print(top_20(\"data/raw.txt\"))"
   ]
  },
  {
   "cell_type": "markdown",
   "metadata": {},
   "source": [
    "# 3- Remove stop words, tokenize, and postagging"
   ]
  },
  {
   "cell_type": "code",
   "execution_count": 11,
   "metadata": {},
   "outputs": [],
   "source": [
    "# remove punctuation\n",
    "\n",
    "def remove_punc(sentences):\n",
    "\n",
    "    # define punctuation\n",
    "    punctuations = '''!()-[]{};:'\"\\,<>./?@#$%^&*_~'''\n",
    "\n",
    "    \n",
    "    no_punct = \"\"\n",
    "    \n",
    "    removed = []\n",
    "    for s in sentences:\n",
    "        for char in s:\n",
    "            if char not in punctuations:\n",
    "                no_punct = no_punct + char\n",
    "        removed.append(no_punct)\n",
    "\n",
    "    return removed\n"
   ]
  },
  {
   "cell_type": "code",
   "execution_count": 12,
   "metadata": {},
   "outputs": [],
   "source": [
    "from nltk.corpus import stopwords \n",
    "from nltk.tokenize import word_tokenize \n",
    "import nltk.data\n",
    "\n",
    "#optional. I did not use it for this assignment as it was not stated in the sections\n",
    "#remove stop words from the textfile after tokenizing them\n",
    "def remove_stopwords(sentences):\n",
    "    \n",
    "    stop_words = set(stopwords.words('english')) \n",
    "\n",
    "    filtered_sentences = []\n",
    "    for s in sentences:\n",
    "        word_tokens = word_tokenize(s)\n",
    "        f = [w for w in word_tokens if not w in stop_words]\n",
    "        filtered_sentences.append(f) \n",
    "    \n",
    "\n",
    "    return filtered_sentences"
   ]
  },
  {
   "cell_type": "code",
   "execution_count": 13,
   "metadata": {
    "scrolled": true
   },
   "outputs": [],
   "source": [
    "#input is the tokenised and empty of stop words dict. output is the pose tagged dict\n",
    "def pos_tag(filtered_sentences):\n",
    "    pos_tagged = []\n",
    "    for s in filtered_sentences:\n",
    "        pos_tagged.append(nltk.pos_tag(s))\n",
    "        \n",
    "    return pos_tagged\n"
   ]
  },
  {
   "cell_type": "code",
   "execution_count": 14,
   "metadata": {},
   "outputs": [
    {
     "name": "stdout",
     "output_type": "stream",
     "text": [
      "['excellent', 'food', '.']\n",
      "[('excellent', 'JJ'), ('food', 'NN'), ('.', '.')]\n"
     ]
    }
   ],
   "source": [
    "#first we separate sentences\n",
    "tokenizer = nltk.data.load('tokenizers/punkt/english.pickle')\n",
    "\n",
    "# remove punctuation from the string\n",
    "fp = open(\"data/raw.txt\")\n",
    "data = fp.read()\n",
    "\n",
    "sentences = tokenizer.tokenize(data)\n",
    "\n",
    "#sentences = remove_punc(sentences)\n",
    "filtered_sentences = remove_stopwords(sentences)\n",
    "pos_tagged = pos_tag(filtered_sentences)\n",
    "\n",
    "\n",
    "#sample of the outputs for the above functions\n",
    "print(filtered_sentences[0])\n",
    "print(pos_tagged[0])"
   ]
  },
  {
   "cell_type": "markdown",
   "metadata": {},
   "source": [
    "# 4-Plotting"
   ]
  },
  {
   "cell_type": "code",
   "execution_count": 17,
   "metadata": {},
   "outputs": [],
   "source": [
    "import matplotlib.pyplot as plt\n",
    "from math import log\n",
    "\n",
    "#plot a bar with the given x and y values\n",
    "def plotbar(x,y):\n",
    "\n",
    "    y = [log(i) for i in y]\n",
    "\n",
    "    plt.figure(figsize=(20,6))\n",
    "    plt.bar(x,y,align='center', linewidth=-5)\n",
    "    # A bar chart\n",
    "    plt.xlabel('Bins')\n",
    "    plt.ylabel('Frequency')\n",
    "\n",
    "    plt.show()"
   ]
  },
  {
   "cell_type": "code",
   "execution_count": 18,
   "metadata": {},
   "outputs": [
    {
     "data": {
      "image/png": "[encoded data removed]",
      "text/plain": [
       "<Figure size 1440x432 with 1 Axes>"
      ]
     },
     "metadata": {},
     "output_type": "display_data"
    }
   ],
   "source": [
    "import random\n",
    "import numpy as np\n",
    "\n",
    "#Plot a histogram of the the frequencies of a random sample of tokens in the data(pick 100 tokens)\n",
    "\n",
    "#random.seed(1)\n",
    "\n",
    "choices = random.sample(set(words), 100)\n",
    "freq_dict = word_freq(\"data/raw.txt\")\n",
    "values = [freq_dict.get(c) for c in freq_dict if c in choices]\n",
    "\n",
    "x = choices\n",
    "y = values\n",
    "plotbar(x,y)"
   ]
  },
  {
   "cell_type": "code",
   "execution_count": 19,
   "metadata": {
    "scrolled": true
   },
   "outputs": [
    {
     "name": "stdout",
     "output_type": "stream",
     "text": [
      "hypocritically 221\n",
      "unparallelled 4\n",
      "transpired 1794\n",
      "diner-esque 110\n",
      "pews 351\n",
      "ixtapa-zihuatenejo 55\n",
      "blacklist 41\n",
      "reliably 41\n",
      "back..asked 20\n",
      "pebble/eastern 1\n",
      "scottsdale-like 8\n",
      "faux-stache-wearing 8\n",
      "50,000/yr 1\n",
      "cherries 1\n",
      "up-dos 1\n",
      "chimmichuri 7\n",
      "immunization 8\n",
      "beautiufl 1\n",
      "locks.. 19\n",
      "boudins 1\n",
      "toolshed 21\n",
      "extra..but 1\n",
      "compels 2\n",
      "careers/jobs 195\n",
      "3:45 24\n",
      "flavor-challenged 7\n",
      "go-a-round 24\n",
      "lancôme 2\n",
      "blimpy 1\n",
      "'seriously 16\n",
      "loathes 2\n",
      "self-infused 1\n",
      "182 1\n",
      "contorti 1\n",
      "super-soft 1\n",
      "nvfm 1\n",
      "zealous 5\n",
      "shin-sen 7\n",
      "apps/drinks 1\n",
      "hullo 6\n",
      "e-book 3\n",
      "d'moes 3\n",
      "colors/styles 3\n",
      "beer-educated 6\n",
      "mirror 1\n",
      "s.o.l 3\n",
      "bowels 3\n",
      "amicably 7\n",
      "lvrm 2\n",
      "havana 3\n",
      "enraged 1\n",
      "palma 1\n",
      "perfections 8\n",
      "rugged 2\n",
      "uneducated 1\n",
      "haji 8\n",
      "salsa-looking 11\n",
      "declarant 9\n",
      "4.25 1\n",
      "perfuctory 3\n",
      "inmans 1\n",
      "sure.that 1\n",
      "st.franis 1\n",
      "bomb-diggity 1\n",
      "mordici 18\n",
      "mastros 1\n",
      "address=5055 1\n",
      "friends.we 1\n",
      "employing 1\n",
      "romanov 1\n",
      "doc.. 8\n",
      "chiffonades 1\n",
      "b-a-b 1\n",
      "1/2 1\n",
      "tabled 1\n",
      "scan 1\n",
      "testosterone 1\n",
      "corporate.i 1\n",
      "fraternize 2\n",
      "embroiled 2\n",
      "mornin 1\n",
      "quinceanera 1\n",
      "satisfactorily 1\n",
      "15/ea 1\n",
      "tea..finally 1\n",
      "vibe.. 1\n",
      "huge-easily 2\n",
      "noiser 1\n",
      "10/16/15 1\n",
      "bushels 1\n",
      "vws 1\n",
      "man- 1\n",
      "bldrs 1\n",
      "17-18 1\n",
      "velcros 1\n",
      "*4 1\n",
      "ladies-who-lunch 1\n",
      "slops 1\n",
      "perfecttta 6\n",
      "moules 1\n"
     ]
    }
   ],
   "source": [
    "#exact values for the above histogram\n",
    "for i,c in enumerate(choices):\n",
    "    print(choices[i],values[i])\n",
    "    "
   ]
  },
  {
   "cell_type": "code",
   "execution_count": 20,
   "metadata": {},
   "outputs": [
    {
     "data": {
      "image/png": "[encoded data removed]",
      "text/plain": [
       "<Figure size 1440x432 with 1 Axes>"
      ]
     },
     "metadata": {},
     "output_type": "display_data"
    }
   ],
   "source": [
    "# Plot a histogram of the frequencies of all the pos tags assigned by the tagger. \n",
    "\n",
    "pos_taggs = []\n",
    "for x in pos_tagged:\n",
    "    temp = [i[1] for i in x]\n",
    "    pos_taggs.extend(temp)\n",
    "\n",
    "count_dict = [[x,pos_taggs.count(x)] for x in set(pos_taggs)]\n",
    "x  = [i[0] for i in count_dict]\n",
    "y  = [i[1] for i in count_dict]\n",
    "\n",
    "plotbar(x, y)"
   ]
  },
  {
   "cell_type": "code",
   "execution_count": 21,
   "metadata": {
    "scrolled": true
   },
   "outputs": [
    {
     "name": "stdout",
     "output_type": "stream",
     "text": [
      "VBZ 124590\n",
      "VB 502000\n",
      ". 1756678\n",
      "'' 55151\n",
      "JJS 61289\n",
      "NNPS 29\n",
      ": 185165\n",
      "EX 1089\n",
      "$ 47839\n",
      "CD 344127\n",
      "MD 194107\n",
      "UH 11151\n",
      "`` 48445\n",
      "DT 48872\n",
      "VBD 598660\n",
      "# 2946\n",
      "IN 224367\n",
      "JJR 43712\n",
      "NNS 1059133\n",
      "NNP 10627\n",
      "NN 4403893\n",
      "FW 13920\n",
      "SYM 4727\n",
      "( 91438\n",
      "TO 1377\n",
      "CC 34896\n",
      "VBP 447844\n",
      "RBR 25739\n",
      "RBS 3734\n",
      "VBN 411735\n",
      ", 870455\n",
      "WDT 3211\n",
      "RP 12053\n",
      ") 100229\n",
      "WP 1349\n",
      "JJ 2211530\n",
      "WRB 2119\n",
      "PDT 112\n",
      "VBG 387097\n",
      "PRP$ 216\n",
      "LS 253\n",
      "RB 1230242\n",
      "POS 160733\n",
      "WP$ 373\n",
      "PRP 43771\n"
     ]
    }
   ],
   "source": [
    "#exact values for the above histogram\n",
    "for i,_ in enumerate(x):\n",
    "    print(x[i],y[i])"
   ]
  },
  {
   "cell_type": "code",
   "execution_count": 22,
   "metadata": {},
   "outputs": [
    {
     "name": "stdout",
     "output_type": "stream",
     "text": [
      "[['JJ', 2211530]]\n"
     ]
    }
   ],
   "source": [
    "count_jj = [[x,pos_taggs.count(x)] for x in set(pos_taggs) if x== 'JJ']\n",
    "print(count_jj)"
   ]
  },
  {
   "cell_type": "code",
   "execution_count": 26,
   "metadata": {},
   "outputs": [
    {
     "name": "stdout",
     "output_type": "stream",
     "text": [
      "{'good': 102947, 'great': 89375, 'nice': 30612, 'little': 30265, 'new': 23617, 'bad': 21081, 'much': 20513, 'many': 19047, 'last': 18846, 'delicious': 18447, 'sure': 18013, 'next': 16887, 'first': 16458, 'small': 15917, 'fresh': 15606, 'happy': 15604, 'big': 15477, 'hot': 14466, 'friendly': 14321, 'old': 13962}\n"
     ]
    }
   ],
   "source": [
    "#Print the top 20 adjectives in the data. \n",
    "import heapq \n",
    "def top20_adj(pos_tagged):\n",
    "    \n",
    "    adjectives = []\n",
    "    for x in pos_tagged:\n",
    "        adjectives.extend([w for w,pos in x if pos=='JJ'])\n",
    "        \n",
    "    count_adj = [[x,adjectives.count(x)] for x in set(adjectives)]\n",
    "    top_adj = dict(heapq.nlargest(20, count_adj, key=itemgetter(1)))\n",
    "    return(top_adj)\n",
    "\n",
    "top_adj = top20_adj(pos_tagged)\n",
    "print(top_adj)"
   ]
  },
  {
   "cell_type": "code",
   "execution_count": 27,
   "metadata": {},
   "outputs": [
    {
     "name": "stdout",
     "output_type": "stream",
     "text": [
      "{'+': 573, '/': 547, '..': 528, '=': 495, '@': 359, ']': 255, '[': 224, '*': 203, 'know': 151, '.i': 126, 'kitchen': 126, '~': 115, 'zucchini': 114, 'x': 106, '.and': 96, 'kinda': 65, \"'d\": 56, \"'n\": 55, '.the': 47, '.well': 46}\n"
     ]
    }
   ],
   "source": [
    "#Print the top 20 proper nouns in the data. \n",
    "def top20_proper_nouns(pos_tagged):\n",
    "    proper_nouns = []\n",
    "    for x in pos_tagged:\n",
    "        proper_nouns.extend([w for w,pos in x if pos=='NNP'])\n",
    "    count_proper_nouns = [[x,proper_nouns.count(x)] for x in set(proper_nouns)]\n",
    "    top_proper_nouns = dict(heapq.nlargest(20, count_proper_nouns, key=itemgetter(1)))\n",
    "    return(top_proper_nouns)\n",
    "\n",
    "print(top20_proper_nouns(pos_tagged))"
   ]
  },
  {
   "cell_type": "markdown",
   "metadata": {},
   "source": [
    "# 5- Train a word2vec model "
   ]
  },
  {
   "cell_type": "markdown",
   "metadata": {},
   "source": [
    "There are 4 parameters which we need to take care of: \n",
    "\n",
    "1- Size: The size of the dense vector to represent each token or word. In this model we have lots of data and its good to experiment with various sizes. But for smal data, the size should be a smaller value.\n",
    "\n",
    "2- Window: The maximum distance between the target word and its neighboring word. if the data is not sparse, window size should not matter too much. In general, a smaller window size should give you terms that are more related. So we try to have smaller sized windows in our experiments.\n",
    "\n",
    "3- min_count: it gets rid of the words which are not repeated more that the min_count value as they are not important to the whole doc. This parameter mostly affects memory usage.\n",
    "\n",
    "4- workers: its about how many threads to use. We do not need to tune this parameter.\n",
    "\n",
    "I decided to pick min_count=3 because there were were a lot of words with the frequency of lower than 5. I used the size=100 as it is reasonable for large data, and window size of 5 because of the medium length of the sentences."
   ]
  },
  {
   "cell_type": "code",
   "execution_count": 28,
   "metadata": {},
   "outputs": [],
   "source": [
    "import gensim\n",
    "\n",
    "model = gensim.models.Word2Vec(filtered_sentences, min_count=3, window=5,  size=100)"
   ]
  },
  {
   "cell_type": "code",
   "execution_count": 30,
   "metadata": {},
   "outputs": [
    {
     "name": "stdout",
     "output_type": "stream",
     "text": [
      "most similar to good:\n",
      "[('decent', 0.8376259803771973), ('great', 0.7848733067512512), ('awesome', 0.6877490282058716)]\n",
      "most similar to great:\n",
      "[('awesome', 0.8533113598823547), ('fantastic', 0.8317754864692688), ('excellent', 0.8170826435089111)]\n",
      "most similar to nice:\n",
      "[('cool', 0.7047579288482666), ('pleasant', 0.6458733081817627), ('great', 0.6324647665023804)]\n",
      "most similar to little:\n",
      "[('bit', 0.8481577634811401), ('tad', 0.741314172744751), ('lil', 0.7163258790969849)]\n",
      "most similar to new:\n",
      "[('current', 0.531875491142273), ('-365', 0.4822043478488922), ('newest', 0.4715840220451355)]\n",
      "most similar to bad:\n",
      "[('terrible', 0.7182955741882324), ('horrible', 0.7127516865730286), ('awful', 0.6348364949226379)]\n",
      "most similar to much:\n",
      "[('actually', 0.6212020516395569), ('lot', 0.5517786741256714), ('alot', 0.5382863283157349)]\n",
      "most similar to many:\n",
      "[('numerous', 0.820077657699585), ('several', 0.8183917999267578), ('multiple', 0.788356363773346)]\n",
      "most similar to last:\n",
      "[('first', 0.6839672327041626), ('ago', 0.6681128740310669), ('past', 0.6445072889328003)]\n",
      "most similar to delicious:\n",
      "[('tasty', 0.8903933763504028), ('yummy', 0.888579785823822), ('delish', 0.848929762840271)]\n",
      "most similar to sure:\n",
      "[('guessing', 0.6187832355499268), ('assuming', 0.5797436237335205), ('clear', 0.5386660099029541)]\n",
      "most similar to next:\n",
      "[('second', 0.6240866184234619), ('2nd', 0.5860154628753662), ('another', 0.5854696035385132)]\n",
      "most similar to first:\n",
      "[('1st', 0.8280766010284424), ('second', 0.7932642698287964), ('2nd', 0.7390937805175781)]\n",
      "most similar to small:\n",
      "[('large', 0.8387227654457092), ('tiny', 0.8155510425567627), ('smallish', 0.7350931167602539)]\n",
      "most similar to fresh:\n",
      "[('freshly', 0.768306314945221), ('premade', 0.6318051815032959), ('fruits', 0.6215487718582153)]\n",
      "most similar to happy:\n",
      "[('non-happy', 0.7164641618728638), ('dinner/happy', 0.6020157337188721), ('.happy', 0.5723154544830322)]\n",
      "most similar to big:\n",
      "[('huge', 0.871538519859314), ('large', 0.7278193831443787), ('giant', 0.6880964040756226)]\n",
      "most similar to hot:\n",
      "[('heat', 0.5817619562149048), ('cold', 0.5797158479690552), ('hotter', 0.5676323771476746)]\n",
      "most similar to friendly:\n",
      "[('polite', 0.7621060013771057), ('courteous', 0.7198436260223389), ('super-friendly', 0.6889619827270508)]\n",
      "most similar to old:\n",
      "[('olds', 0.7200700640678406), ('old-', 0.6852461099624634), ('elementary', 0.6318358182907104)]\n"
     ]
    },
    {
     "name": "stderr",
     "output_type": "stream",
     "text": [
      "/home/borna/anaconda3/lib/python3.6/site-packages/ipykernel_launcher.py:5: DeprecationWarning: Call to deprecated `most_similar` (Method will be removed in 4.0.0, use self.wv.most_similar() instead).\n",
      "  \"\"\"\n",
      "/home/borna/.local/lib/python3.6/site-packages/gensim/matutils.py:737: FutureWarning: Conversion of the second argument of issubdtype from `int` to `np.signedinteger` is deprecated. In future, it will be treated as `np.int64 == np.dtype(int).type`.\n",
      "  if np.issubdtype(vec.dtype, np.int):\n"
     ]
    }
   ],
   "source": [
    "\n",
    "for a in top_adj.keys():\n",
    "    \n",
    "    print('most similar to {}:'.format(a))\n",
    "    print(model.most_similar(a, topn=3))\n",
    "\n"
   ]
  }
 ],
 "metadata": {
  "kernelspec": {
   "display_name": "Python 3",
   "language": "python",
   "name": "python3"
  }
 },
 "nbformat": 4,
 "nbformat_minor": 2
}
